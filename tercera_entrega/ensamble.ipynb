{
 "cells": [
  {
   "cell_type": "code",
   "execution_count": null,
   "metadata": {},
   "outputs": [],
   "source": [
    "import pandas as pd\n"
   ]
  },
  {
   "cell_type": "code",
   "execution_count": null,
   "metadata": {},
   "outputs": [],
   "source": [
    "ruta_archivo = r\"C:/Users/LeonardoIula/Desktop/stacking/stacking2.xlsx\"\n",
    "df = pd.read_excel(ruta_archivo)"
   ]
  },
  {
   "cell_type": "code",
   "execution_count": null,
   "metadata": {},
   "outputs": [],
   "source": [
    "# Calcular el promedio de las ultimas 7 columnas\n",
    "df['Promedio_Ultimas_7'] = df.iloc[:, -7:].mean(axis=1)\n",
    "df = df.sort_values(by='Promedio_Ultimas_7', ascending=False)\n",
    "df['prediccion'] = 0  \n",
    "df.iloc[:11000, df.columns.get_loc('prediccion')] = 1"
   ]
  },
  {
   "cell_type": "code",
   "execution_count": null,
   "metadata": {},
   "outputs": [],
   "source": [
    "nuevo_df = df[['numero_de_cliente', 'prediccion']].rename(columns={'prediccion': 'Predicted'})\n",
    "# Guardar el nuevo DataFrame como un archivo CSV\n",
    "ruta_csv = r\"C:/Users/LeonardoIula/Desktop/stacking/ensamble.csv\"\n",
    "nuevo_df.to_csv(ruta_csv, index=False)"
   ]
  }
 ],
 "metadata": {
  "kernelspec": {
   "display_name": "Python 3",
   "language": "python",
   "name": "python3"
  },
  "language_info": {
   "name": "python",
   "version": "3.12.2"
  }
 },
 "nbformat": 4,
 "nbformat_minor": 2
}
